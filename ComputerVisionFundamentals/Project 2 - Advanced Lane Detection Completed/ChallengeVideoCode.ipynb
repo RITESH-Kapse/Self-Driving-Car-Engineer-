{
 "cells": [
  {
   "cell_type": "code",
   "execution_count": 20,
   "metadata": {},
   "outputs": [],
   "source": [
    "import pickle\n",
    "import cv2\n",
    "import numpy as np\n",
    "import matplotlib.pyplot as plt\n",
    "import matplotlib.image as mpimg\n",
    "import glob\n",
    "%matplotlib qt"
   ]
  },
  {
   "cell_type": "markdown",
   "metadata": {},
   "source": [
    "**Implementation  of camera calibration using chessboard images**"
   ]
  },
  {
   "cell_type": "code",
   "execution_count": 21,
   "metadata": {},
   "outputs": [],
   "source": [
    "# Step 1- Camera calibration\n",
    "#Creating an array for object Points\n",
    "objp = np.zeros((6*9,3), np.float32)\n",
    "objp[:,:2] = np.mgrid[0:9, 0:6].T.reshape(-1,2)\n",
    "\n",
    "objpoints=[] #3D points in real space \n",
    "imgpoints=[] #2D points in img space\n",
    "\n",
    "# Make a list of calibration images\n",
    "images = glob.glob('camera_cal/calibration*.jpg')\n",
    "\n",
    "f, axes= plt.subplots(1,2,figsize=(30,30))\n",
    "\n",
    "for index,image in enumerate(images):\n",
    "    originalImage= cv2.imread(image)\n",
    "    #converting to Grayscale before finding Chessboard Corners\n",
    "    grayImg= cv2.cvtColor(originalImage, cv2.COLOR_BGR2GRAY) \n",
    "\n",
    "    if(index==12 ):\n",
    "        # Plotting the original Image\n",
    "        axes[0].set_title('Original Image', fontsize=20)\n",
    "        axes[0].imshow(originalImage)\n",
    "\n",
    "    # Find the chessboard corners\n",
    "    ret, corners = cv2.findChessboardCorners(grayImg, (9,6), None)\n",
    "\n",
    "    if(ret==True):\n",
    "        objpoints.append(objp)\n",
    "        imgpoints.append(corners)\n",
    "\n",
    "        # Drawing Chessboard Corners\n",
    "        cv2.drawChessboardCorners(originalImage, (9,6), corners, ret)\n",
    "        if(index==12 ):\n",
    "            axes[1].set_title('Image with Chessboard Corners', fontsize=20)\n",
    "            axes[1].imshow(originalImage)"
   ]
  },
  {
   "cell_type": "markdown",
   "metadata": {},
   "source": [
    "**Step 2 :Distortion coefficients on given set of chessboard images**"
   ]
  },
  {
   "cell_type": "code",
   "execution_count": 22,
   "metadata": {},
   "outputs": [
    {
     "data": {
      "text/plain": [
       "Text(0.5, 1.0, 'Undistorted Images')"
      ]
     },
     "execution_count": 22,
     "metadata": {},
     "output_type": "execute_result"
    }
   ],
   "source": [
    "img = cv2.imread('camera_cal/calibration1.jpg')\n",
    "img_size = (img.shape[1], img.shape[0])\n",
    "\n",
    "ret, mtx, dist, rvecs, tvecs = cv2.calibrateCamera(objpoints, imgpoints, img_size,None,None)\n",
    "\n",
    "dst = cv2.undistort(img, mtx, dist, None, mtx)\n",
    "\n",
    "f, axes= plt.subplots(1,2,figsize=(30,30))\n",
    "\n",
    "\n",
    "axes[0].imshow(img)\n",
    "axes[0].set_title(\"Original Image\", fontsize=20)\n",
    "axes[1].imshow(dst)\n",
    "axes[1].set_title(\"Undistorted Images\", fontsize=20)\n",
    "\n",
    "#from Step 2 we get two important parameters- dist(the distortion coefficient), mtx(camera matrix)"
   ]
  },
  {
   "cell_type": "markdown",
   "metadata": {},
   "source": [
    "**Step 3 : Apply a distortion correction to raw images**"
   ]
  },
  {
   "cell_type": "code",
   "execution_count": 23,
   "metadata": {},
   "outputs": [],
   "source": [
    "#Since we have all the distortion coefficients calculated above, we can create the function for same.\n",
    "def undistortImage(image):\n",
    "    return cv2.undistort(image, mtx, dist, None, mtx)"
   ]
  },
  {
   "cell_type": "markdown",
   "metadata": {},
   "source": [
    "****Step 4 : Region of interest and Bird Eye View****"
   ]
  },
  {
   "cell_type": "code",
   "execution_count": 24,
   "metadata": {},
   "outputs": [],
   "source": [
    "# Step 4 - Defining a Region of Interest, Perspective Transform ,Warping an Image from bird's eye view\n",
    "\n",
    "left=[140,710] #left bottom most point of trapezium\n",
    "right=[1240,710] #right bottom most point of trapezium\n",
    "apex_left=[580,440] # left top most point of trapezium\n",
    "apex_right=[690,440] # right top most point of trapezium\n",
    "\n",
    "src=np.float32([left,apex_left,apex_right,right]) # Source Points for Image Warp\n",
    "dst= np.float32([[200 ,720], [200  ,0], [980 ,0], [980 ,720]]) # Destination Points for Image Warp\n",
    "\n",
    "def ROI(originalImage):\n",
    "    return cv2.polylines(originalImage,np.int32(np.array([[left,apex_left,apex_right,right]])),True,(0,0,255),10)\n",
    "\n",
    "def WarpPerspective(image):\n",
    "    y=image.shape[0]\n",
    "    x=image.shape[1]\n",
    "    M = cv2.getPerspectiveTransform(src, dst)\n",
    "    return cv2.warpPerspective(image, M, (x,y), flags=cv2.INTER_LINEAR)"
   ]
  },
  {
   "cell_type": "markdown",
   "metadata": {},
   "source": [
    "**Step 5 : Selecting the color and returning binary image**"
   ]
  },
  {
   "cell_type": "code",
   "execution_count": 25,
   "metadata": {},
   "outputs": [],
   "source": [
    "def ExtractChannel(image,colorspace,threshold,channel=0):\n",
    "    colorspace = cv2.cvtColor(image, colorspace)\n",
    "    extracted_channel = colorspace[:,:,channel]\n",
    "    binary = np.zeros_like(extracted_channel)\n",
    "    binary[(extracted_channel >= threshold[0]) & (extracted_channel <= threshold[1])] = 1\n",
    "    return binary"
   ]
  },
  {
   "cell_type": "markdown",
   "metadata": {},
   "source": [
    "**Step 6: Apply Sobel Operator( Heart of Canny Edge Detection) to warped Image**"
   ]
  },
  {
   "cell_type": "code",
   "execution_count": 26,
   "metadata": {},
   "outputs": [],
   "source": [
    "def Sobel(warpedimage, threshold, sobelType, kernelSize=3):\n",
    "    \n",
    "    gray = cv2.cvtColor(warpedimage, cv2.COLOR_RGB2GRAY) # Step 1- Convert to GrayScale\n",
    "    sobelx = cv2.Sobel(gray,cv2.CV_64F, 1, 0, ksize=kernelSize)\n",
    "    sobely = cv2.Sobel(gray,cv2.CV_64F, 0, 1, ksize=kernelSize)\n",
    "    \n",
    "    abs_sobelx = np.absolute(sobelx)\n",
    "    abs_sobely = np.absolute(sobely)\n",
    "    \n",
    "    grad= np.sqrt(sobelx**2 + sobely**2)\n",
    "    \n",
    "    arctan= np.arctan2(abs_sobely,abs_sobelx)\n",
    "    \n",
    "    valParam=abs_sobelx\n",
    "    \n",
    "    if(sobelType=='x'):\n",
    "        valParam=abs_sobelx\n",
    "    elif(sobelType=='y'):\n",
    "        valParam= abs_sobely\n",
    "    elif(sobelType=='xy'):\n",
    "        valParam= grad\n",
    "    else:\n",
    "        valParam=arctan\n",
    "        \n",
    "    \n",
    "    img = np.uint8((valParam* 255)/np.max(valParam)) # Creating a normalized sobel image\n",
    "    binary_output = np.zeros_like(img)\n",
    "    binary_output[(img > threshold[0]) & (img < threshold[1])]=1\n",
    "    return binary_output"
   ]
  },
  {
   "cell_type": "markdown",
   "metadata": {},
   "source": [
    "**Step 7: Combining Different ColorSpaces and Sobel Variants**"
   ]
  },
  {
   "cell_type": "code",
   "execution_count": 27,
   "metadata": {},
   "outputs": [],
   "source": [
    "def combineEverything(warpedImage, color_threshold, sobel_threshold):\n",
    "    \n",
    "    s_channel = ExtractChannel(warpedImage,cv2.COLOR_RGB2HLS,color_threshold,2)\n",
    "    l_channel = ExtractChannel(warpedImage,cv2.COLOR_RGB2HLS,color_threshold,1)\n",
    "    y_channel= ExtractChannel(warpedImage,cv2.COLOR_RGB2YUV,color_threshold,0)\n",
    "    \n",
    "    sobelx = Sobel(warpedImage, sobel_threshold, 'x')\n",
    "    sobeldir= Sobel(warpedImage, [0.7,25], 'dir')\n",
    "    #sobelxy=Sobel(warpedImage, sobel_threshold, 'xy')\n",
    "    combined_binary = np.zeros_like(s_channel)\n",
    "    combined_binary[(((s_channel == 1) & (l_channel==1)) & (y_channel==1)) | (sobelx == 1)  ] = 1\n",
    "    return combined_binary"
   ]
  },
  {
   "cell_type": "markdown",
   "metadata": {},
   "source": [
    "**Step 8: Detect lane pixels and fit to find the lane boundary**"
   ]
  },
  {
   "cell_type": "code",
   "execution_count": 29,
   "metadata": {},
   "outputs": [],
   "source": [
    "#Plotting Histogram\n",
    "\n",
    "def Histogram(warpedimage):\n",
    "    return np.sum(warpedimage[warpedimage.shape[0]//2:,:], axis=0)"
   ]
  },
  {
   "cell_type": "markdown",
   "metadata": {},
   "source": [
    "**Step 9: Sliding window search**"
   ]
  },
  {
   "cell_type": "code",
   "execution_count": 30,
   "metadata": {},
   "outputs": [],
   "source": [
    "def SlidingWindowSearch(binary_warped, plot=False):\n",
    "\n",
    "    histogram = Histogram(binary_warped)\n",
    "    # Create an output image to draw on and  visualize the result\n",
    "    out_img = np.dstack((binary_warped, binary_warped, binary_warped))*255\n",
    "    # Find the peak of the left and right halves of the histogram\n",
    "    # These will be the starting point for the left and right lines\n",
    "    midpoint = np.int(histogram.shape[0]/2)\n",
    "    leftx_base = np.argmax(histogram[:midpoint])\n",
    "    rightx_base = np.argmax(histogram[midpoint:]) + midpoint\n",
    "\n",
    "    # Choose the number of sliding windows\n",
    "    nwindows = 10\n",
    "    # Set height of windows\n",
    "    window_height = np.int(binary_warped.shape[0]/nwindows)\n",
    "    # Identify the x and y positions of all nonzero pixels in the image\n",
    "    nonzero = binary_warped.nonzero()\n",
    "    nonzeroy = np.array(nonzero[0])\n",
    "    nonzerox = np.array(nonzero[1])\n",
    "    # Current positions to be updated for each window\n",
    "    leftx_current = leftx_base\n",
    "    rightx_current = rightx_base\n",
    "    # Set the width of the windows +/- margin\n",
    "    margin = 90\n",
    "    # Set minimum number of pixels found to recenter window\n",
    "    minpix = 40\n",
    "    # Create empty lists to receive left and right lane pixel indices\n",
    "    left_lane_inds = []\n",
    "    right_lane_inds = []\n",
    "\n",
    "    # Step through the windows one by one\n",
    "    for window in range(nwindows):\n",
    "        # Identify window boundaries in x and y (and right and left)\n",
    "        win_y_low = binary_warped.shape[0] - (window+1)*window_height\n",
    "        win_y_high = binary_warped.shape[0] - window*window_height\n",
    "        win_xleft_low = leftx_current - margin\n",
    "        win_xleft_high = leftx_current + margin\n",
    "        win_xright_low = rightx_current - margin\n",
    "        win_xright_high = rightx_current + margin\n",
    "        # Draw the windows on the visualization image\n",
    "        if(plot==True):\n",
    "            cv2.rectangle(out_img,(win_xleft_low,win_y_low),(win_xleft_high,win_y_high),(0,255,0), 2) \n",
    "            cv2.rectangle(out_img,(win_xright_low,win_y_low),(win_xright_high,win_y_high),(0,255,0), 2) \n",
    "        # Identify the nonzero pixels in x and y within the window\n",
    "        good_left_inds = ((nonzeroy >= win_y_low) & (nonzeroy < win_y_high) & \n",
    "        (nonzerox >= win_xleft_low) &  (nonzerox < win_xleft_high)).nonzero()[0]\n",
    "        good_right_inds = ((nonzeroy >= win_y_low) & (nonzeroy < win_y_high) & \n",
    "        (nonzerox >= win_xright_low) &  (nonzerox < win_xright_high)).nonzero()[0]\n",
    "        # Append these indices to the lists\n",
    "        left_lane_inds.append(good_left_inds)\n",
    "        right_lane_inds.append(good_right_inds)\n",
    "        # If you found > minpix pixels, recenter next window on their mean position\n",
    "        if len(good_left_inds) > minpix:\n",
    "            leftx_current = np.int(np.mean(nonzerox[good_left_inds]))\n",
    "        if len(good_right_inds) > minpix:        \n",
    "            rightx_current = np.int(np.mean(nonzerox[good_right_inds]))\n",
    "\n",
    "    # Concatenate the arrays of indices\n",
    "    left_lane_inds = np.concatenate(left_lane_inds)\n",
    "    right_lane_inds = np.concatenate(right_lane_inds)\n",
    "\n",
    "    # Extract left and right line pixel positions\n",
    "    leftx = nonzerox[left_lane_inds]\n",
    "    lefty = nonzeroy[left_lane_inds] \n",
    "    rightx = nonzerox[right_lane_inds]\n",
    "    righty = nonzeroy[right_lane_inds] \n",
    "\n",
    "    # Fit a second order polynomial to each\n",
    "    left_fit = np.polyfit(lefty, leftx, 2)\n",
    "    right_fit = np.polyfit(righty, rightx, 2)\n",
    "\n",
    "    \n",
    "    \n",
    "    return left_fit,right_fit,left_lane_inds,right_lane_inds,out_img\n"
   ]
  },
  {
   "cell_type": "markdown",
   "metadata": {},
   "source": [
    "**Step 10 : Determine the curvature of the lane and vehicle position with respect to center.**"
   ]
  },
  {
   "cell_type": "code",
   "execution_count": 31,
   "metadata": {},
   "outputs": [],
   "source": [
    "def CalculateRadiusOfCurvature(binary_warped,left_fit,right_fit):\n",
    "    ym_per_pix = 35/720 # meters per pixel in y dimension\n",
    "    xm_per_pix = 4/700 # meters per pixel in x dimension\n",
    "    \n",
    "    ploty = np.linspace(0, binary_warped.shape[0]-1, binary_warped.shape[0] )\n",
    "    leftx = left_fit[0]*ploty**2 + left_fit[1]*ploty +left_fit[2]\n",
    "    rightx = right_fit[0]*ploty**2 + right_fit[1]*ploty + right_fit[2]\n",
    "    positionCar= binary_warped.shape[1]/2\n",
    "    # Fit new polynomials to x,y in world space\n",
    "    left_fit_cr = np.polyfit(ploty*ym_per_pix, leftx*xm_per_pix, 2)\n",
    "    right_fit_cr = np.polyfit(ploty*ym_per_pix, rightx*xm_per_pix, 2)\n",
    "    \n",
    "    \n",
    "    y_eval=np.max(ploty)\n",
    "    \n",
    "    left_curverad = ((1 + (2*left_fit_cr[0]*y_eval*ym_per_pix + left_fit_cr[1])**2)**1.5) / np.absolute(2*left_fit_cr[0])\n",
    "    right_curverad = ((1 + (2*right_fit_cr[0]*y_eval*ym_per_pix + right_fit_cr[1])**2)**1.5) / np.absolute(2*right_fit_cr[0])\n",
    "    \n",
    "    \n",
    "    left_lane_bottom = (left_fit[0]*y_eval)**2 + left_fit[0]*y_eval + left_fit[2]\n",
    "    right_lane_bottom = (right_fit[0]*y_eval)**2 + right_fit[0]*y_eval + right_fit[2]\n",
    "    \n",
    "    actualPosition= (left_lane_bottom+ right_lane_bottom)/2\n",
    "    \n",
    "    distance= (positionCar - actualPosition)* xm_per_pix\n",
    "    \n",
    "    # Now our radius of curvature is in meters\n",
    "    #print(left_curverad, 'm', right_curverad, 'm')\n",
    "    return (left_curverad + right_curverad)/2, distance\n",
    "    # Example values: 632.1 m    626.2 m"
   ]
  },
  {
   "cell_type": "markdown",
   "metadata": {},
   "source": [
    "**Step 11: Warp the detected lane boundaries back onto the original image**"
   ]
  },
  {
   "cell_type": "code",
   "execution_count": 32,
   "metadata": {},
   "outputs": [],
   "source": [
    "#Unwrap image and plot line\n",
    "def DrawLine(original_image,binary_warped, left_fit, right_fit):\n",
    "    \n",
    "    h,w= binary_warped.shape\n",
    "    Minv = cv2.getPerspectiveTransform(dst, src)\n",
    "    ploty = np.linspace(0, binary_warped.shape[0]-1, binary_warped.shape[0] )\n",
    "    left_fitx = left_fit[0]*ploty**2 + left_fit[1]*ploty +left_fit[2]\n",
    "    right_fitx = right_fit[0]*ploty**2 + right_fit[1]*ploty + right_fit[2] \n",
    "    warp_zero = np.zeros_like(binary_warped).astype(np.uint8)\n",
    "    color_warp = np.dstack((warp_zero, warp_zero, warp_zero))\n",
    "    \n",
    "   \n",
    "    ploty = np.linspace(0, h-1, num=h)# to cover same y-range as image\n",
    "    \n",
    "    # Recast the x and y points into usable format for cv2.fillPoly()\n",
    "    pts_left = np.array([np.transpose(np.vstack([left_fitx, ploty]))])\n",
    "    pts_right = np.array([np.flipud(np.transpose(np.vstack([right_fitx, ploty])))])\n",
    "    pts = np.hstack((pts_left, pts_right))\n",
    "\n",
    "    # Draw the lane onto the warped blank image\n",
    "    cv2.fillPoly(color_warp, np.int_([pts]), (0,255, 0))\n",
    "    cv2.polylines(color_warp, np.int32([pts_left]), isClosed=False, color=(255,0,255), thickness=15)\n",
    "    cv2.polylines(color_warp, np.int32([pts_right]), isClosed=False, color=(0,255,255), thickness=15)\n",
    "\n",
    "    # Warp the blank back to original image space using inverse perspective matrix (Minv)\n",
    "    newwarp = cv2.warpPerspective(color_warp, Minv, (w, h)) \n",
    "    #axes[index+1].imshow(newwarp)\n",
    "    # Combine the result with the original image\n",
    "    result = cv2.addWeighted(original_image, 1, newwarp, 0.5, 0)\n",
    "    return result"
   ]
  },
  {
   "cell_type": "markdown",
   "metadata": {},
   "source": [
    "**Step 12 : Defining the pipeline**"
   ]
  },
  {
   "cell_type": "code",
   "execution_count": 33,
   "metadata": {},
   "outputs": [],
   "source": [
    "from random import randint\n",
    "import datetime\n",
    "import time\n",
    "def pipeline(originalImage):\n",
    "    originalImage= cv2.cvtColor(originalImage, cv2.COLOR_BGR2RGB)\n",
    "    undistortedImage= undistortImage(originalImage)\n",
    "    warpedImage= WarpPerspective(undistortedImage)\n",
    "    combinedImage= combineEverything(warpedImage,color_threshold= [100,255],sobel_threshold=[10,150])\n",
    "    returnedOutput =  SlidingWindowSearch(combinedImage)\n",
    "    left_fit=returnedOutput[0]\n",
    "    right_fit=returnedOutput[1]\n",
    "    #VisualizeSlidingWindow(combinedImage, left_fit,right_fit, returnedOutput[2], returnedOutput[3],returnedOutput[4])\n",
    "    finalImage=DrawLine(originalImage,combinedImage,left_fit,right_fit)\n",
    "    #cv2.imwrite('./test/'+str(randint(0, 99999))+'.jpg',originalImage)\n",
    "    \n",
    "    radius, distance = CalculateRadiusOfCurvature(combinedImage,left_fit,right_fit)\n",
    "    cv2.putText(finalImage,\"Radius of Curvature is \" + str(int(radius))+ \"m\", (100,100), 2, 1, (255,255,0),2)\n",
    "    #print(distance)\n",
    "    cv2.putText(finalImage,\"Distance from center is {:2f}\".format(distance)+ \"m\", (100,150), 2, 1, (255,255,0),2)\n",
    "    ts = time.time()\n",
    "    st = datetime.datetime.fromtimestamp(ts).strftime('%Y%m%d %H%M%S')\n",
    "        \n",
    "    cv2.imwrite('./Output_1/'+str(st)+'.jpg',originalImage)\n",
    "    \n",
    "    cv2.imwrite('./Output_1/'+str(st)+'_o.jpg',finalImage)\n",
    "    newCombinedImage= np.dstack((combinedImage*255,combinedImage*255,combinedImage*255))\n",
    "    finalImage[100:240,1000:1200, :]= cv2.resize(newCombinedImage, (200,140))\n",
    "    return cv2.cvtColor(finalImage, cv2.COLOR_BGR2RGB)"
   ]
  },
  {
   "cell_type": "markdown",
   "metadata": {},
   "source": [
    "**Step 14:Running Pipeline on video**"
   ]
  },
  {
   "cell_type": "code",
   "execution_count": 34,
   "metadata": {},
   "outputs": [
    {
     "name": "stdout",
     "output_type": "stream",
     "text": [
      "Moviepy - Building video project_video_output_new.mp4.\n",
      "Moviepy - Writing video project_video_output_new.mp4\n",
      "\n"
     ]
    },
    {
     "name": "stderr",
     "output_type": "stream",
     "text": [
      "                                                                                                                       \r"
     ]
    },
    {
     "name": "stdout",
     "output_type": "stream",
     "text": [
      "Moviepy - Done !\n",
      "Moviepy - video ready project_video_output_new.mp4\n",
      "Wall time: 2min 47s\n"
     ]
    }
   ],
   "source": [
    "import moviepy\n",
    "from moviepy.editor import VideoFileClip\n",
    "video_output1 = 'project_video_output_new.mp4'\n",
    "video_input1 = VideoFileClip('challenge_video.mp4')\n",
    "processed_video = video_input1.fl_image(pipeline)\n",
    "%time processed_video.write_videofile(video_output1, audio=False)"
   ]
  }
 ],
 "metadata": {
  "kernelspec": {
   "display_name": "Python 3",
   "language": "python",
   "name": "python3"
  },
  "language_info": {
   "codemirror_mode": {
    "name": "ipython",
    "version": 3
   },
   "file_extension": ".py",
   "mimetype": "text/x-python",
   "name": "python",
   "nbconvert_exporter": "python",
   "pygments_lexer": "ipython3",
   "version": "3.7.4"
  }
 },
 "nbformat": 4,
 "nbformat_minor": 2
}
