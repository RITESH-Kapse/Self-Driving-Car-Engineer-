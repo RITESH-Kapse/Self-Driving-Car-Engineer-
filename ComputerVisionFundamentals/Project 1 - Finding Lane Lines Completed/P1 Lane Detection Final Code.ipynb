{
 "cells": [
  {
   "cell_type": "code",
   "execution_count": 1,
   "metadata": {},
   "outputs": [],
   "source": [
    "#importing some useful packages\n",
    "import matplotlib.pyplot as plt\n",
    "import matplotlib.image as mpimg\n",
    "import numpy as np\n",
    "import cv2\n",
    "import math\n",
    "import os\n",
    "%matplotlib inline"
   ]
  },
  {
   "cell_type": "code",
   "execution_count": 6,
   "metadata": {},
   "outputs": [],
   "source": [
    "def make_line_points(y1, y2, line):\n",
    "    if line is None:\n",
    "        return None\n",
    "    slope, intercept = line\n",
    "    # make sure everything is integer as cv2.line requires it\n",
    "    x1 = int((y1 - intercept)/slope)\n",
    "    x2 = int((y2 - intercept)/slope)\n",
    "    y1 = int(y1)\n",
    "    y2 = int(y2)\n",
    "    return ((x1, y1), (x2, y2))\n",
    "\n",
    "def draw_lines(image, lines):\n",
    "    left_lines    = [] # (slope, intercept)\n",
    "    left_weights  = [] # (length,)\n",
    "    right_lines   = [] # (slope, intercept)\n",
    "    right_weights = [] # (length,)\n",
    "    for line in lines:\n",
    "        for x1, y1, x2, y2 in line:\n",
    "            if x2==x1:\n",
    "                continue # ignore a vertical line\n",
    "            slope = (y2-y1)/(x2-x1)\n",
    "            intercept = y1 - slope*x1\n",
    "            length = np.sqrt((y2-y1)**2+(x2-x1)**2)\n",
    "            if slope < 0: # y is reversed in image\n",
    "                left_lines.append((slope, intercept))\n",
    "                left_weights.append((length))\n",
    "            else:\n",
    "                right_lines.append((slope, intercept))\n",
    "                right_weights.append((length))\n",
    "                \n",
    "    # add more weight to longer lines\n",
    "    left_lane  = np.dot(left_weights,  left_lines)/np.sum(left_weights)  if len(left_weights) >0 else None\n",
    "    right_lane = np.dot(right_weights, right_lines)/np.sum(right_weights) if len(right_weights)>0 else None\n",
    "    # creating a blank to draw lines on\n",
    "    line_image = np.copy(image)*0\n",
    "    # converting lines into point coordinates\n",
    "    y1 = image.shape[0]\n",
    "    y2 = y1 * 0.6\n",
    "    left_line = make_line_points(y1, y2, left_lane)\n",
    "    right_line = make_line_points(y1, y2, right_lane)\n",
    "    if(left_line is not None):\n",
    "        cv2.line(line_image,(left_line[0][0],left_line[0][1]),(left_line[1][0],left_line[1][1]),(255,0,0),10)\n",
    "    if(right_line is not None):\n",
    "        cv2.line(line_image,(right_line[0][0],right_line[0][1]),(right_line[1][0],right_line[1][1]),(255,0,0),10)\n",
    "        \n",
    "    return line_image"
   ]
  },
  {
   "cell_type": "code",
   "execution_count": 7,
   "metadata": {},
   "outputs": [],
   "source": [
    "def weighted_img(img, initial_img, α=0.8, β=1., γ=0.):\n",
    "    return cv2.addWeighted(initial_img, α, img, β, γ)\n",
    "\n",
    "def process(image):\n",
    "    \"\"\"Convert image to gray image\"\"\"\n",
    "    gray = cv2.cvtColor(image,cv2.COLOR_RGB2GRAY)\n",
    "    \n",
    "    \"\"\"Convert gray image to blur image to reduce noise effect\"\"\"\n",
    "    kernal_size = 5\n",
    "    #kernal_size is always in odd numbers\n",
    "    blur_gray = cv2.GaussianBlur(gray,(kernal_size,kernal_size),0)\n",
    "    #plt.imshow(blur_gray, cmap = 'gray')\n",
    "    \n",
    "    \"\"\"Apply Canny Edge Detection on blur image\"\"\"\n",
    "    low_threshold = 10\n",
    "    high_threshold = 100\n",
    "    edges = cv2.Canny(blur_gray,low_threshold,high_threshold)\n",
    "    #plt.imshow(edges, cmap = 'gray')\n",
    "    \n",
    "    \"\"\"Apply polygon filter on canny detected image\"\"\"\n",
    "    mask = np.zeros_like(edges)\n",
    "    ignore_mask_color = 255\n",
    "    imshape = image.shape\n",
    "    vertices = np.array([[(0,imshape[0]),(450,320),(480,320),(imshape[1],imshape[0])]],dtype=np.int32)\n",
    "    cv2.fillPoly(mask,vertices,ignore_mask_color)\n",
    "    masked_edges = cv2.bitwise_and(edges,mask)\n",
    "    #plt.imshow(masked_edges)\n",
    "    \n",
    "    \"\"\"Apply Hough transform on masked edges\"\"\"\n",
    "    rho=2\n",
    "    theta = np.pi/180\n",
    "    threshold = 15\n",
    "    min_line_length = 40\n",
    "    max_line_gap = 20\n",
    "    line_image = np.copy(image)*0\n",
    "    lines = cv2.HoughLinesP(masked_edges,rho,theta,threshold,np.array([]),min_line_length,max_line_gap)\n",
    "    line_image =draw_lines(image, lines)\n",
    "    \n",
    "    color_edges = np.dstack((masked_edges,masked_edges,masked_edges))\n",
    "    #plt.imshow(color_edges)\n",
    "    line_edges = cv2.addWeighted(color_edges,0.8,line_image,1,0)\n",
    "    #plt.imshow(line_edges)\n",
    "    \n",
    "    \"\"\"Apply weighted image function to implement all above functions on input image\"\"\"\n",
    "    weightedImage = weighted_img(line_edges,image,α=0.8, β=1., γ=0.)\n",
    "    \n",
    "    \"\"\"Save final image to result function and return results\"\"\"\n",
    "    result = weightedImage\n",
    "    #plt.imshow(weightedImage)\n",
    "    return result\n"
   ]
  },
  {
   "cell_type": "code",
   "execution_count": 8,
   "metadata": {},
   "outputs": [],
   "source": [
    "# Import everything needed to edit/save/watch video clips\n",
    "from moviepy.editor import VideoFileClip\n",
    "from IPython.display import HTML\n",
    "import time\n",
    "import timeit"
   ]
  },
  {
   "cell_type": "code",
   "execution_count": 9,
   "metadata": {},
   "outputs": [
    {
     "name": "stderr",
     "output_type": "stream",
     "text": [
      "\r",
      "t:   0%|                                                                             | 0/221 [00:00<?, ?it/s, now=None]"
     ]
    },
    {
     "name": "stdout",
     "output_type": "stream",
     "text": [
      "Moviepy - Building video test_videos_output/solidWhiteRight.mp4.\n",
      "Moviepy - Writing video test_videos_output/solidWhiteRight.mp4\n",
      "\n"
     ]
    },
    {
     "name": "stderr",
     "output_type": "stream",
     "text": [
      "                                                                                                                       \r"
     ]
    },
    {
     "name": "stdout",
     "output_type": "stream",
     "text": [
      "Moviepy - Done !\n",
      "Moviepy - video ready test_videos_output/solidWhiteRight.mp4\n",
      "Wall time: 10.6 s\n"
     ]
    }
   ],
   "source": [
    "\"\"\"Apply the results on video\"\"\"\n",
    "white_output = 'test_videos_output/solidWhiteRight.mp4'\n",
    "\n",
    "##clip1 = VideoFileClip(\"test_videos/solidWhiteRight.mp4\").subclip(0,5)\n",
    "clip1 = VideoFileClip(\"test_videos/solidWhiteRight.mp4\")\n",
    "white_clip = clip1.fl_image(process) #NOTE: this function expects color images!!\n",
    "%time white_clip.write_videofile(white_output, audio=False)"
   ]
  },
  {
   "cell_type": "code",
   "execution_count": 10,
   "metadata": {},
   "outputs": [
    {
     "data": {
      "text/html": [
       "\n",
       "<video width=\"960\" height=\"540\" controls>\n",
       "  <source src=\"test_videos_output/solidWhiteRight.mp4\">\n",
       "</video>\n"
      ],
      "text/plain": [
       "<IPython.core.display.HTML object>"
      ]
     },
     "execution_count": 10,
     "metadata": {},
     "output_type": "execute_result"
    }
   ],
   "source": [
    "HTML(\"\"\"\n",
    "<video width=\"960\" height=\"540\" controls>\n",
    "  <source src=\"{0}\">\n",
    "</video>\n",
    "\"\"\".format(white_output))"
   ]
  },
  {
   "cell_type": "code",
   "execution_count": null,
   "metadata": {},
   "outputs": [],
   "source": []
  }
 ],
 "metadata": {
  "kernelspec": {
   "display_name": "Python 3",
   "language": "python",
   "name": "python3"
  },
  "language_info": {
   "codemirror_mode": {
    "name": "ipython",
    "version": 3
   },
   "file_extension": ".py",
   "mimetype": "text/x-python",
   "name": "python",
   "nbconvert_exporter": "python",
   "pygments_lexer": "ipython3",
   "version": "3.8.3"
  }
 },
 "nbformat": 4,
 "nbformat_minor": 4
}
